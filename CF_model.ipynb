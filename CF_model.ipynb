{
 "cells": [
  {
   "cell_type": "markdown",
   "metadata": {},
   "source": [
    "Collaborative Filtering\n",
    "* Item-Item \n",
    "* Centered Cosine Similarity\n",
    "* Top-k\n",
    "\n",
    "https://www.ethanrosenthal.com/2015/11/02/intro-to-collaborative-filtering/"
   ]
  },
  {
   "cell_type": "markdown",
   "metadata": {},
   "source": [
    "## Import Data "
   ]
  },
  {
   "cell_type": "code",
   "execution_count": 1,
   "metadata": {},
   "outputs": [],
   "source": [
    "%matplotlib inline\n",
    "\n",
    "import pandas as pd\n",
    "\n",
    "r = pd.read_csv( 'ratings.csv' )"
   ]
  },
  {
   "cell_type": "code",
   "execution_count": 2,
   "metadata": {},
   "outputs": [
    {
     "name": "stdout",
     "output_type": "stream",
     "text": [
      "53424 users\n",
      "10000 books\n"
     ]
    }
   ],
   "source": [
    "n_users = r.user_id.unique().shape[0]\n",
    "n_books = r.book_id.unique().shape[0]\n",
    "print(str(n_users) + ' users')\n",
    "print(str(n_books) + ' books')"
   ]
  },
  {
   "cell_type": "markdown",
   "metadata": {},
   "source": [
    "## Construct Matrix"
   ]
  },
  {
   "cell_type": "code",
   "execution_count": 3,
   "metadata": {
    "scrolled": true
   },
   "outputs": [
    {
     "data": {
      "text/plain": [
       "array([[0., 0., 0., ..., 4., 4., 4.],\n",
       "       [0., 5., 0., ..., 5., 5., 5.],\n",
       "       [0., 0., 0., ..., 0., 0., 4.],\n",
       "       ...,\n",
       "       [0., 0., 0., ..., 0., 0., 0.],\n",
       "       [0., 0., 0., ..., 0., 0., 0.],\n",
       "       [0., 0., 0., ..., 0., 0., 0.]])"
      ]
     },
     "execution_count": 3,
     "metadata": {},
     "output_type": "execute_result"
    }
   ],
   "source": [
    "import numpy as np\n",
    "\n",
    "# id starts from 1, but python starts at 0\n",
    "ratings = np.zeros((n_books, n_users))\n",
    "for row in r.itertuples():\n",
    "    ratings[row[2]-1, row[1]-1] = row[3]\n",
    "    \n",
    "ratings"
   ]
  },
  {
   "cell_type": "code",
   "execution_count": 4,
   "metadata": {},
   "outputs": [],
   "source": [
    "def get_sparsity(ratings):\n",
    "    sparsity = float(len(ratings.nonzero()[0]))\n",
    "    sparsity /= (ratings.shape[0] * ratings.shape[1])\n",
    "    sparsity *= 100\n",
    "    return sparsity"
   ]
  },
  {
   "cell_type": "code",
   "execution_count": 5,
   "metadata": {
    "scrolled": true
   },
   "outputs": [
    {
     "name": "stdout",
     "output_type": "stream",
     "text": [
      "Sparsity: 1.118688042827194%\n"
     ]
    }
   ],
   "source": [
    "print(f'Sparsity: {get_sparsity(ratings)}%')"
   ]
  },
  {
   "cell_type": "markdown",
   "metadata": {},
   "source": [
    "## Only keep top 1000 books"
   ]
  },
  {
   "cell_type": "code",
   "execution_count": 6,
   "metadata": {
    "scrolled": true
   },
   "outputs": [
    {
     "name": "stdout",
     "output_type": "stream",
     "text": [
      "1000\n"
     ]
    }
   ],
   "source": [
    "N = 1000\n",
    "book_index = np.argpartition(np.count_nonzero(ratings, axis=1), -N)[-N:]\n",
    "print(len(book_index))"
   ]
  },
  {
   "cell_type": "code",
   "execution_count": 7,
   "metadata": {},
   "outputs": [],
   "source": [
    "ratings = ratings[book_index]"
   ]
  },
  {
   "cell_type": "code",
   "execution_count": 8,
   "metadata": {},
   "outputs": [
    {
     "name": "stdout",
     "output_type": "stream",
     "text": [
      "min:  1183\n",
      "mean: 3179.65\n",
      "max:  22806\n"
     ]
    }
   ],
   "source": [
    "book_stat = np.count_nonzero(ratings, axis=1)\n",
    "print(f'min:  {book_stat.min()}\\nmean: {book_stat.mean()}\\nmax:  {book_stat.max()}')"
   ]
  },
  {
   "cell_type": "code",
   "execution_count": 9,
   "metadata": {},
   "outputs": [
    {
     "name": "stdout",
     "output_type": "stream",
     "text": [
      "Sparsity: 5.951725816112609%\n"
     ]
    }
   ],
   "source": [
    "print(f'Sparsity: {get_sparsity(ratings)}%')"
   ]
  },
  {
   "cell_type": "markdown",
   "metadata": {},
   "source": [
    "## Only keep top 10000 users"
   ]
  },
  {
   "cell_type": "code",
   "execution_count": 10,
   "metadata": {},
   "outputs": [
    {
     "name": "stdout",
     "output_type": "stream",
     "text": [
      "10000\n"
     ]
    }
   ],
   "source": [
    "N = 10000\n",
    "user_index = np.argpartition(np.count_nonzero(ratings, axis=0), -N)[-N:]\n",
    "print(len(user_index))"
   ]
  },
  {
   "cell_type": "code",
   "execution_count": 11,
   "metadata": {},
   "outputs": [
    {
     "data": {
      "text/plain": [
       "(1000, 10000)"
      ]
     },
     "execution_count": 11,
     "metadata": {},
     "output_type": "execute_result"
    }
   ],
   "source": [
    "ratings = ratings[:, user_index]\n",
    "ratings.shape"
   ]
  },
  {
   "cell_type": "code",
   "execution_count": 12,
   "metadata": {},
   "outputs": [
    {
     "name": "stdout",
     "output_type": "stream",
     "text": [
      "min:  82\n",
      "mean: 98.3166\n",
      "max:  177\n"
     ]
    }
   ],
   "source": [
    "user_stat = np.count_nonzero(ratings, axis=0)\n",
    "print(f'min:  {user_stat.min()}\\nmean: {user_stat.mean()}\\nmax:  {user_stat.max()}')"
   ]
  },
  {
   "cell_type": "code",
   "execution_count": 13,
   "metadata": {
    "scrolled": true
   },
   "outputs": [
    {
     "name": "stdout",
     "output_type": "stream",
     "text": [
      "Sparsity: 9.831660000000001%\n"
     ]
    }
   ],
   "source": [
    "print(f'Sparsity: {get_sparsity(ratings)}%')"
   ]
  },
  {
   "cell_type": "markdown",
   "metadata": {},
   "source": [
    "## Get Train and Test Set"
   ]
  },
  {
   "cell_type": "markdown",
   "metadata": {},
   "source": [
    "Removing 10 ratings per item from the training set and placing them in the test set."
   ]
  },
  {
   "cell_type": "code",
   "execution_count": 14,
   "metadata": {},
   "outputs": [],
   "source": [
    "def train_test_split(ratings):\n",
    "    test = np.zeros(ratings.shape)\n",
    "    train = ratings.copy()\n",
    "    for book in range(ratings.shape[0]):\n",
    "        test_ratings = np.random.choice(ratings[book, :].nonzero()[0], \n",
    "                                        size=20, \n",
    "                                        replace=False)\n",
    "        train[book, test_ratings] = 0\n",
    "        test[book, test_ratings] = ratings[book, test_ratings]\n",
    "        \n",
    "    # Test and training are truly disjoint\n",
    "    assert(np.all((train * test) == 0)) \n",
    "    return train, test\n",
    "\n",
    "train, test = train_test_split(ratings)"
   ]
  },
  {
   "cell_type": "markdown",
   "metadata": {},
   "source": [
    "## Center Matrix"
   ]
  },
  {
   "cell_type": "code",
   "execution_count": 15,
   "metadata": {},
   "outputs": [
    {
     "data": {
      "text/plain": [
       "array([[ 0.        ,  0.        ,  0.        , ...,  0.        ,\n",
       "         0.        ,  0.        ],\n",
       "       [ 0.        ,  0.        ,  0.        , ...,  0.        ,\n",
       "         0.        ,  0.        ],\n",
       "       [ 0.        ,  0.        ,  0.        , ...,  0.        ,\n",
       "         0.        ,  0.        ],\n",
       "       ...,\n",
       "       [-1.3840871 ,  0.6159129 , -0.3840871 , ...,  0.        ,\n",
       "        -0.3840871 ,  0.6159129 ],\n",
       "       [-0.00724947, -0.00724947, -1.00724947, ...,  0.99275053,\n",
       "         0.        ,  0.99275053],\n",
       "       [ 0.72001371,  0.72001371, -1.27998629, ..., -0.27998629,\n",
       "         0.        , -0.27998629]])"
      ]
     },
     "execution_count": 15,
     "metadata": {},
     "output_type": "execute_result"
    }
   ],
   "source": [
    "train_centered = train.copy()\n",
    "\n",
    "def center_row(row):\n",
    "    index = row.nonzero()[0]\n",
    "    avg = row[index].mean()\n",
    "    row[index] = row[index] - avg\n",
    "    return row\n",
    "    \n",
    "train_centered = np.apply_along_axis(center_row, 1, train_centered)\n",
    "train_centered"
   ]
  },
  {
   "cell_type": "markdown",
   "metadata": {},
   "source": [
    "## Calculate Similarity Matrix"
   ]
  },
  {
   "cell_type": "code",
   "execution_count": 16,
   "metadata": {
    "scrolled": true
   },
   "outputs": [],
   "source": [
    "def similarity(ratings, kind='item'):\n",
    "    if kind == 'item':\n",
    "        sim = ratings.dot(ratings.T)\n",
    "    norms = np.array([np.sqrt(np.diagonal(sim))])\n",
    "    return (sim / norms / norms.T)\n",
    "\n",
    "item_similarity = similarity(train_centered, kind='item')"
   ]
  },
  {
   "cell_type": "markdown",
   "metadata": {},
   "source": [
    "## Calculate MSE Error"
   ]
  },
  {
   "cell_type": "code",
   "execution_count": 17,
   "metadata": {},
   "outputs": [],
   "source": [
    "from sklearn.metrics import mean_squared_error\n",
    "\n",
    "def get_mse(pred, actual):\n",
    "    # Ignore nonzero terms\n",
    "    pred = pred[actual.nonzero()].flatten()\n",
    "    actual = actual[actual.nonzero()].flatten()\n",
    "    return mean_squared_error(pred, actual)"
   ]
  },
  {
   "cell_type": "markdown",
   "metadata": {},
   "source": [
    "## Predict Result (Slow because of for loop)"
   ]
  },
  {
   "cell_type": "code",
   "execution_count": 18,
   "metadata": {},
   "outputs": [],
   "source": [
    "def predict(item_similarity, train, K=40):\n",
    "    pred = np.zeros(train.shape)\n",
    "    for i in range(train.shape[0]):\n",
    "        for j in range(train.shape[1]):\n",
    "            # Already rated by user\n",
    "            if (train[i][j] != 0):\n",
    "                pred[i][j] = train[i][j]\n",
    "                continue\n",
    "            # Note rated by user\n",
    "            user_nonzero = np.where(train[:, j] != 0)[0]\n",
    "            similarity = item_similarity[i][user_nonzero]\n",
    "            topK = np.argpartition(similarity, -K)[-K:]\n",
    "            pred[i][j] = np.dot(similarity[topK], train[user_nonzero[topK], j]) / similarity[topK].sum()\n",
    "    return pred"
   ]
  },
  {
   "cell_type": "markdown",
   "metadata": {},
   "source": [
    "## Calculate MSE"
   ]
  },
  {
   "cell_type": "code",
   "execution_count": 20,
   "metadata": {},
   "outputs": [
    {
     "name": "stdout",
     "output_type": "stream",
     "text": [
      "[0.7418654661633373, 0.7117659211893688, 0.710689418084402, 0.7135913732459042, 0.7173405394438648, 0.7208399201056205]\n"
     ]
    }
   ],
   "source": [
    "k_list = [5, 10, 15, 20, 25, 30]\n",
    "mse = []\n",
    "for k in k_list:\n",
    "    pred = predict(item_similarity, train, K=k)\n",
    "    mse.append(get_mse(pred, test))\n",
    "\n",
    "print(mse)"
   ]
  },
  {
   "cell_type": "code",
   "execution_count": 38,
   "metadata": {},
   "outputs": [
    {
     "data": {
      "image/png": "[encoded data removed]",
      "text/plain": [
       "<Figure size 432x288 with 1 Axes>"
      ]
     },
     "metadata": {},
     "output_type": "display_data"
    }
   ],
   "source": [
    "import matplotlib.pyplot as plt\n",
    "import seaborn as sns\n",
    "\n",
    "sns.set()\n",
    "pal = sns.color_palette(\"Set2\", 2)\n",
    "plt.plot(k_list, mse, c=pal[0], alpha=0.5, linewidth=5)\n",
    "plt.xlabel('K')\n",
    "plt.ylabel('MSE')\n",
    "plt.show()"
   ]
  },
  {
   "cell_type": "markdown",
   "metadata": {},
   "source": [
    "The best choice for K is 15 according to the graph."
   ]
  },
  {
   "cell_type": "markdown",
   "metadata": {},
   "source": [
    "# Save Result to File"
   ]
  },
  {
   "cell_type": "code",
   "execution_count": 39,
   "metadata": {},
   "outputs": [],
   "source": [
    "np.savez('CF_data.npz', book_index=book_index, user_index=user_index, item_similarity=item_similarity)"
   ]
  }
 ],
 "metadata": {
  "kernelspec": {
   "display_name": "Python 3",
   "language": "python",
   "name": "python3"
  },
  "language_info": {
   "codemirror_mode": {
    "name": "ipython",
    "version": 3
   },
   "file_extension": ".py",
   "mimetype": "text/x-python",
   "name": "python",
   "nbconvert_exporter": "python",
   "pygments_lexer": "ipython3",
   "version": "3.8.5"
  }
 },
 "nbformat": 4,
 "nbformat_minor": 4
}
