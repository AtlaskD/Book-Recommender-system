{
 "cells": [
  {
   "cell_type": "markdown",
   "metadata": {},
   "source": [
    "Collaborative Filtering\n",
    "* Item-Item \n",
    "* Centered Cosine Similarity\n",
    "* Top-k\n",
    "\n",
    "https://www.ethanrosenthal.com/2015/11/02/intro-to-collaborative-filtering/"
   ]
  },
  {
   "cell_type": "markdown",
   "metadata": {},
   "source": [
    "## Import Data "
   ]
  },
  {
   "cell_type": "code",
   "execution_count": 1,
   "metadata": {},
   "outputs": [],
   "source": [
    "%matplotlib inline\n",
    "\n",
    "import pandas as pd\n",
    "\n",
    "r = pd.read_csv( 'ratings.csv' )"
   ]
  },
  {
   "cell_type": "code",
   "execution_count": 2,
   "metadata": {},
   "outputs": [
    {
     "name": "stdout",
     "output_type": "stream",
     "text": [
      "53424 users\n",
      "10000 books\n"
     ]
    }
   ],
   "source": [
    "n_users = r.user_id.unique().shape[0]\n",
    "n_books = r.book_id.unique().shape[0]\n",
    "print(str(n_users) + ' users')\n",
    "print(str(n_books) + ' books')"
   ]
  },
  {
   "cell_type": "markdown",
   "metadata": {},
   "source": [
    "## Construct Matrix"
   ]
  },
  {
   "cell_type": "code",
   "execution_count": 3,
   "metadata": {
    "scrolled": true
   },
   "outputs": [
    {
     "data": {
      "text/plain": [
       "array([[0., 0., 0., ..., 4., 4., 4.],\n",
       "       [0., 5., 0., ..., 5., 5., 5.],\n",
       "       [0., 0., 0., ..., 0., 0., 4.],\n",
       "       ...,\n",
       "       [0., 0., 0., ..., 0., 0., 0.],\n",
       "       [0., 0., 0., ..., 0., 0., 0.],\n",
       "       [0., 0., 0., ..., 0., 0., 0.]])"
      ]
     },
     "execution_count": 3,
     "metadata": {},
     "output_type": "execute_result"
    }
   ],
   "source": [
    "import numpy as np\n",
    "\n",
    "# id starts from 1, but python starts at 0\n",
    "ratings = np.zeros((n_books, n_users))\n",
    "for row in r.itertuples():\n",
    "    ratings[row[2]-1, row[1]-1] = row[3]\n",
    "    \n",
    "ratings"
   ]
  },
  {
   "cell_type": "code",
   "execution_count": 4,
   "metadata": {},
   "outputs": [],
   "source": [
    "def get_sparsity(ratings):\n",
    "    sparsity = float(len(ratings.nonzero()[0]))\n",
    "    sparsity /= (ratings.shape[0] * ratings.shape[1])\n",
    "    sparsity *= 100\n",
    "    return sparsity"
   ]
  },
  {
   "cell_type": "code",
   "execution_count": 5,
   "metadata": {},
   "outputs": [
    {
     "name": "stdout",
     "output_type": "stream",
     "text": [
      "Sparsity: 1.118688042827194%\n"
     ]
    }
   ],
   "source": [
    "print(f'Sparsity: {get_sparsity(ratings)}%')"
   ]
  },
  {
   "cell_type": "markdown",
   "metadata": {},
   "source": [
    "## Only keep top 1000 books"
   ]
  },
  {
   "cell_type": "code",
   "execution_count": 6,
   "metadata": {},
   "outputs": [
    {
     "name": "stdout",
     "output_type": "stream",
     "text": [
      "1000\n"
     ]
    }
   ],
   "source": [
    "N = 1000\n",
    "book_index = np.argpartition(np.count_nonzero(ratings, axis=1), -N)[-N:]\n",
    "print(len(book_index))"
   ]
  },
  {
   "cell_type": "code",
   "execution_count": 7,
   "metadata": {},
   "outputs": [],
   "source": [
    "ratings = ratings[book_index]"
   ]
  },
  {
   "cell_type": "code",
   "execution_count": 8,
   "metadata": {},
   "outputs": [
    {
     "name": "stdout",
     "output_type": "stream",
     "text": [
      "min:  1183\n",
      "mean: 3179.65\n",
      "max:  22806\n"
     ]
    }
   ],
   "source": [
    "book_stat = np.count_nonzero(ratings, axis=1)\n",
    "print(f'min:  {book_stat.min()}\\nmean: {book_stat.mean()}\\nmax:  {book_stat.max()}')"
   ]
  },
  {
   "cell_type": "code",
   "execution_count": 9,
   "metadata": {},
   "outputs": [
    {
     "name": "stdout",
     "output_type": "stream",
     "text": [
      "Sparsity: 5.951725816112609%\n"
     ]
    }
   ],
   "source": [
    "print(f'Sparsity: {get_sparsity(ratings)}%')"
   ]
  },
  {
   "cell_type": "markdown",
   "metadata": {},
   "source": [
    "## Only keep top 10000 users"
   ]
  },
  {
   "cell_type": "code",
   "execution_count": 10,
   "metadata": {},
   "outputs": [
    {
     "name": "stdout",
     "output_type": "stream",
     "text": [
      "10000\n"
     ]
    }
   ],
   "source": [
    "N = 10000\n",
    "user_index = np.argpartition(np.count_nonzero(ratings, axis=0), -N)[-N:]\n",
    "print(len(user_index))"
   ]
  },
  {
   "cell_type": "code",
   "execution_count": 11,
   "metadata": {},
   "outputs": [
    {
     "data": {
      "text/plain": [
       "(1000, 10000)"
      ]
     },
     "execution_count": 11,
     "metadata": {},
     "output_type": "execute_result"
    }
   ],
   "source": [
    "ratings = ratings[:, user_index]\n",
    "ratings.shape"
   ]
  },
  {
   "cell_type": "code",
   "execution_count": 12,
   "metadata": {},
   "outputs": [
    {
     "name": "stdout",
     "output_type": "stream",
     "text": [
      "min:  82\n",
      "mean: 98.3166\n",
      "max:  177\n"
     ]
    }
   ],
   "source": [
    "user_stat = np.count_nonzero(ratings, axis=0)\n",
    "print(f'min:  {user_stat.min()}\\nmean: {user_stat.mean()}\\nmax:  {user_stat.max()}')"
   ]
  },
  {
   "cell_type": "code",
   "execution_count": 13,
   "metadata": {
    "scrolled": true
   },
   "outputs": [
    {
     "name": "stdout",
     "output_type": "stream",
     "text": [
      "Sparsity: 9.831660000000001%\n"
     ]
    }
   ],
   "source": [
    "print(f'Sparsity: {get_sparsity(ratings)}%')"
   ]
  },
  {
   "cell_type": "markdown",
   "metadata": {},
   "source": [
    "## Get Train and Test Set"
   ]
  },
  {
   "cell_type": "markdown",
   "metadata": {},
   "source": [
    "Removing 10 ratings per item from the training set and placing them in the test set."
   ]
  },
  {
   "cell_type": "code",
   "execution_count": 14,
   "metadata": {},
   "outputs": [
    {
     "data": {
      "text/plain": [
       "(array([  0,   0,   0, ..., 999, 999, 999]),\n",
       " array([  78,  124,  192, ..., 9996, 9997, 9999]))"
      ]
     },
     "execution_count": 14,
     "metadata": {},
     "output_type": "execute_result"
    }
   ],
   "source": [
    "ratings.nonzero()"
   ]
  },
  {
   "cell_type": "code",
   "execution_count": 15,
   "metadata": {},
   "outputs": [],
   "source": [
    "def train_test_split(ratings):\n",
    "    test = np.zeros(ratings.shape)\n",
    "    train = ratings.copy()\n",
    "    for book in range(ratings.shape[0]):\n",
    "        test_ratings = np.random.choice(ratings[book, :].nonzero()[0], \n",
    "                                        size=10, \n",
    "                                        replace=False)\n",
    "        train[book, test_ratings] = 0\n",
    "        test[book, test_ratings] = ratings[book, test_ratings]\n",
    "        \n",
    "    # Test and training are truly disjoint\n",
    "    assert(np.all((train * test) == 0)) \n",
    "    return train, test\n",
    "\n",
    "train, test = train_test_split(ratings)"
   ]
  },
  {
   "cell_type": "code",
   "execution_count": 16,
   "metadata": {},
   "outputs": [
    {
     "data": {
      "text/plain": [
       "(1000, 10000)"
      ]
     },
     "execution_count": 16,
     "metadata": {},
     "output_type": "execute_result"
    }
   ],
   "source": [
    "train.shape"
   ]
  },
  {
   "cell_type": "markdown",
   "metadata": {},
   "source": [
    "## Center Matrix"
   ]
  },
  {
   "cell_type": "code",
   "execution_count": 17,
   "metadata": {},
   "outputs": [
    {
     "data": {
      "text/plain": [
       "array([[ 0.        ,  0.        ,  0.        , ...,  0.        ,\n",
       "         0.        ,  0.        ],\n",
       "       [ 0.        ,  0.        ,  0.        , ...,  0.        ,\n",
       "         0.        ,  0.        ],\n",
       "       [ 0.        ,  0.        ,  0.        , ...,  0.        ,\n",
       "         0.        ,  0.        ],\n",
       "       ...,\n",
       "       [-1.38344482,  0.61655518, -0.38344482, ...,  0.        ,\n",
       "        -0.38344482,  0.61655518],\n",
       "       [-0.00787234, -0.00787234, -1.00787234, ...,  0.99212766,\n",
       "         0.        ,  0.99212766],\n",
       "       [ 0.71912419,  0.71912419, -1.28087581, ..., -0.28087581,\n",
       "         0.        , -0.28087581]])"
      ]
     },
     "execution_count": 17,
     "metadata": {},
     "output_type": "execute_result"
    }
   ],
   "source": [
    "train_centered = train.copy()\n",
    "\n",
    "def center_row(row):\n",
    "    index = row.nonzero()\n",
    "    avg = row[index].mean()\n",
    "    row[index] = row[index] - avg\n",
    "    \n",
    "np.apply_along_axis(center_row, 1, train_centered)\n",
    "\n",
    "train_centered"
   ]
  },
  {
   "cell_type": "markdown",
   "metadata": {},
   "source": [
    "## Calculate Similarity Matrix"
   ]
  },
  {
   "cell_type": "code",
   "execution_count": 18,
   "metadata": {
    "scrolled": true
   },
   "outputs": [
    {
     "name": "stdout",
     "output_type": "stream",
     "text": [
      "[[ 1.00000000e+00  7.00436084e-06 -6.17233148e-03 -1.48636761e-04]\n",
      " [ 7.00436084e-06  1.00000000e+00  5.96565906e-02  0.00000000e+00]\n",
      " [-6.17233148e-03  5.96565906e-02  1.00000000e+00  0.00000000e+00]\n",
      " [-1.48636761e-04  0.00000000e+00  0.00000000e+00  1.00000000e+00]]\n"
     ]
    }
   ],
   "source": [
    "def similarity(ratings, kind='item'):\n",
    "    if kind == 'item':\n",
    "        sim = ratings.dot(ratings.T)\n",
    "    norms = np.array([np.sqrt(np.diagonal(sim))])\n",
    "    return (sim / norms / norms.T)\n",
    "\n",
    "item_similarity = similarity(train_centered, kind='item')\n",
    "print(item_similarity[:4, :4])"
   ]
  },
  {
   "cell_type": "markdown",
   "metadata": {},
   "source": [
    "## Calculate MSE Error"
   ]
  },
  {
   "cell_type": "code",
   "execution_count": 19,
   "metadata": {},
   "outputs": [],
   "source": [
    "from sklearn.metrics import mean_squared_error\n",
    "\n",
    "def get_mse(pred, actual):\n",
    "    # Ignore nonzero terms\n",
    "    pred = pred[actual.nonzero()].flatten()\n",
    "    actual = actual[actual.nonzero()].flatten()\n",
    "    return mean_squared_error(pred, actual)"
   ]
  },
  {
   "cell_type": "markdown",
   "metadata": {},
   "source": [
    "## Predict Result (Slow because of for loop)"
   ]
  },
  {
   "cell_type": "code",
   "execution_count": 25,
   "metadata": {},
   "outputs": [
    {
     "data": {
      "text/plain": [
       "array([4351, 2682, 9394, 6757])"
      ]
     },
     "execution_count": 25,
     "metadata": {},
     "output_type": "execute_result"
    }
   ],
   "source": [
    "np.argpartition(train[0], -4)[-4:]"
   ]
  },
  {
   "cell_type": "code",
   "execution_count": 26,
   "metadata": {},
   "outputs": [
    {
     "data": {
      "text/plain": [
       "5.0"
      ]
     },
     "execution_count": 26,
     "metadata": {},
     "output_type": "execute_result"
    }
   ],
   "source": [
    "train[0][4351]"
   ]
  },
  {
   "cell_type": "code",
   "execution_count": 20,
   "metadata": {},
   "outputs": [
    {
     "data": {
      "text/plain": [
       "(1000, 10000)"
      ]
     },
     "execution_count": 20,
     "metadata": {},
     "output_type": "execute_result"
    }
   ],
   "source": [
    "def predict(item_similarity, , train, ratings_bool)\n",
    "for i in range(rating.shape[0]):\n",
    "    for j in range(ratings.shape[1]):\n",
    "        book = item_similarity[i][ratings_bool[:j]]"
   ]
  },
  {
   "cell_type": "code",
   "execution_count": null,
   "metadata": {},
   "outputs": [],
   "source": []
  },
  {
   "cell_type": "markdown",
   "metadata": {},
   "source": [
    "## Predict Result (Wrong because unrated rating is considered)"
   ]
  },
  {
   "cell_type": "markdown",
   "metadata": {},
   "source": [
    "### Get Order Array"
   ]
  },
  {
   "cell_type": "raw",
   "metadata": {},
   "source": [
    "item_similarity[0][:5]"
   ]
  },
  {
   "cell_type": "raw",
   "metadata": {},
   "source": [
    "order = (-item_similarity).argsort(axis=1).argsort(axis=1)\n",
    "order[0][:5]"
   ]
  },
  {
   "cell_type": "markdown",
   "metadata": {},
   "source": [
    "### Get Boolean Array where False for order < K and True for order >= K"
   ]
  },
  {
   "cell_type": "raw",
   "metadata": {},
   "source": [
    "K = 40\n",
    "order = order >= K\n",
    "order[0][:5]"
   ]
  },
  {
   "cell_type": "markdown",
   "metadata": {},
   "source": [
    "### Set similarity term to 0 if order >= K"
   ]
  },
  {
   "cell_type": "raw",
   "metadata": {},
   "source": [
    "print(f'order has shape {order.shape} item_similarity has shape{item_similarity.shape}')"
   ]
  },
  {
   "cell_type": "raw",
   "metadata": {
    "scrolled": true
   },
   "source": [
    "TopK_item_similarity = item_similarity.copy()\n",
    "TopK_item_similarity[order] = 0\n",
    "TopK_item_similarity[0][:5]"
   ]
  },
  {
   "cell_type": "markdown",
   "metadata": {},
   "source": [
    "### Divide each row by sum of similarities"
   ]
  },
  {
   "cell_type": "raw",
   "metadata": {},
   "source": [
    "TopK_item_similarity = TopK_item_similarity / TopK_item_similarity.sum(axis=1, keepdims=True)\n",
    "TopK_item_similarity[0][:5]"
   ]
  },
  {
   "cell_type": "markdown",
   "metadata": {},
   "source": [
    "### Multiply TopK_item_similarity and train"
   ]
  },
  {
   "cell_type": "raw",
   "metadata": {},
   "source": [
    "TopK_item_similarity.shape"
   ]
  },
  {
   "cell_type": "raw",
   "metadata": {},
   "source": [
    "train.shape"
   ]
  },
  {
   "cell_type": "raw",
   "metadata": {},
   "source": [
    "pred = np.matmul(TopK_item_similarity, train)\n",
    "pred"
   ]
  },
  {
   "cell_type": "markdown",
   "metadata": {},
   "source": [
    "## Calculate MSE"
   ]
  },
  {
   "cell_type": "code",
   "execution_count": null,
   "metadata": {},
   "outputs": [],
   "source": [
    "print('Top-k Item-based CF MSE: ' + str(get_mse(pred, test)))"
   ]
  },
  {
   "cell_type": "code",
   "execution_count": null,
   "metadata": {},
   "outputs": [],
   "source": [
    "pred[0].sum()/np.count_nonzero(pred[0])"
   ]
  },
  {
   "cell_type": "code",
   "execution_count": null,
   "metadata": {},
   "outputs": [],
   "source": [
    "train[0].sum()/np.count_nonzero(train[0])"
   ]
  }
 ],
 "metadata": {
  "kernelspec": {
   "display_name": "Python 3",
   "language": "python",
   "name": "python3"
  },
  "language_info": {
   "codemirror_mode": {
    "name": "ipython",
    "version": 3
   },
   "file_extension": ".py",
   "mimetype": "text/x-python",
   "name": "python",
   "nbconvert_exporter": "python",
   "pygments_lexer": "ipython3",
   "version": "3.7.3"
  }
 },
 "nbformat": 4,
 "nbformat_minor": 4
}
