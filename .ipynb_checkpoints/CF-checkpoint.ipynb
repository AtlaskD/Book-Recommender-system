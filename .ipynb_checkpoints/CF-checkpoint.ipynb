{
 "cells": [
  {
   "cell_type": "markdown",
   "metadata": {},
   "source": [
    "Collaborative Filtering\n",
    "* Item-Item \n",
    "* Centered Cosine Similarity\n",
    "* Top-k\n",
    "\n",
    "https://www.ethanrosenthal.com/2015/11/02/intro-to-collaborative-filtering/"
   ]
  },
  {
   "cell_type": "markdown",
   "metadata": {},
   "source": [
    "## Import Data "
   ]
  },
  {
   "cell_type": "code",
   "execution_count": 1,
   "metadata": {},
   "outputs": [],
   "source": [
    "%matplotlib inline\n",
    "\n",
    "import pandas as pd\n",
    "\n",
    "r = pd.read_csv( 'ratings.csv' )"
   ]
  },
  {
   "cell_type": "code",
   "execution_count": 2,
   "metadata": {},
   "outputs": [
    {
     "name": "stdout",
     "output_type": "stream",
     "text": [
      "53424 users\n",
      "10000 books\n"
     ]
    }
   ],
   "source": [
    "n_users = r.user_id.unique().shape[0]\n",
    "n_books = r.book_id.unique().shape[0]\n",
    "print(str(n_users) + ' users')\n",
    "print(str(n_books) + ' books')"
   ]
  },
  {
   "cell_type": "markdown",
   "metadata": {},
   "source": [
    "## Construct Matrix"
   ]
  },
  {
   "cell_type": "code",
   "execution_count": 3,
   "metadata": {
    "scrolled": true
   },
   "outputs": [
    {
     "data": {
      "text/plain": [
       "array([[0., 0., 0., ..., 4., 4., 4.],\n",
       "       [0., 5., 0., ..., 5., 5., 5.],\n",
       "       [0., 0., 0., ..., 0., 0., 4.],\n",
       "       ...,\n",
       "       [0., 0., 0., ..., 0., 0., 0.],\n",
       "       [0., 0., 0., ..., 0., 0., 0.],\n",
       "       [0., 0., 0., ..., 0., 0., 0.]])"
      ]
     },
     "execution_count": 3,
     "metadata": {},
     "output_type": "execute_result"
    }
   ],
   "source": [
    "import numpy as np\n",
    "\n",
    "# id starts from 1, but python starts at 0\n",
    "ratings = np.zeros((n_books, n_users))\n",
    "for row in r.itertuples():\n",
    "    ratings[row[2]-1, row[1]-1] = row[3]\n",
    "    \n",
    "ratings"
   ]
  },
  {
   "cell_type": "code",
   "execution_count": 4,
   "metadata": {},
   "outputs": [],
   "source": [
    "def get_sparsity(ratings):\n",
    "    sparsity = float(len(ratings.nonzero()[0]))\n",
    "    sparsity /= (ratings.shape[0] * ratings.shape[1])\n",
    "    sparsity *= 100\n",
    "    return sparsity"
   ]
  },
  {
   "cell_type": "code",
   "execution_count": 5,
   "metadata": {},
   "outputs": [
    {
     "name": "stdout",
     "output_type": "stream",
     "text": [
      "Sparsity: 1.118688042827194%\n"
     ]
    }
   ],
   "source": [
    "print(f'Sparsity: {get_sparsity(ratings)}%')"
   ]
  },
  {
   "cell_type": "markdown",
   "metadata": {},
   "source": [
    "## Only keep top 1000 books"
   ]
  },
  {
   "cell_type": "code",
   "execution_count": 6,
   "metadata": {},
   "outputs": [
    {
     "name": "stdout",
     "output_type": "stream",
     "text": [
      "1000\n"
     ]
    }
   ],
   "source": [
    "N = 1000\n",
    "book_index = np.argpartition(np.count_nonzero(ratings, axis=1), -N)[-N:]\n",
    "print(len(book_index))"
   ]
  },
  {
   "cell_type": "code",
   "execution_count": 7,
   "metadata": {},
   "outputs": [],
   "source": [
    "ratings = ratings[book_index]"
   ]
  },
  {
   "cell_type": "code",
   "execution_count": 8,
   "metadata": {},
   "outputs": [
    {
     "name": "stdout",
     "output_type": "stream",
     "text": [
      "min:  1183\n",
      "mean: 3179.65\n",
      "max:  22806\n"
     ]
    }
   ],
   "source": [
    "book_stat = np.count_nonzero(ratings, axis=1)\n",
    "print(f'min:  {book_stat.min()}\\nmean: {book_stat.mean()}\\nmax:  {book_stat.max()}')"
   ]
  },
  {
   "cell_type": "code",
   "execution_count": 9,
   "metadata": {},
   "outputs": [
    {
     "name": "stdout",
     "output_type": "stream",
     "text": [
      "Sparsity: 5.951725816112609%\n"
     ]
    }
   ],
   "source": [
    "print(f'Sparsity: {get_sparsity(ratings)}%')"
   ]
  },
  {
   "cell_type": "markdown",
   "metadata": {},
   "source": [
    "## Only keep top 10000 users"
   ]
  },
  {
   "cell_type": "code",
   "execution_count": 10,
   "metadata": {},
   "outputs": [
    {
     "name": "stdout",
     "output_type": "stream",
     "text": [
      "10000\n"
     ]
    }
   ],
   "source": [
    "N = 10000\n",
    "user_index = np.argpartition(np.count_nonzero(ratings, axis=0), -N)[-N:]\n",
    "print(len(user_index))"
   ]
  },
  {
   "cell_type": "code",
   "execution_count": 11,
   "metadata": {},
   "outputs": [
    {
     "data": {
      "text/plain": [
       "(1000, 10000)"
      ]
     },
     "execution_count": 11,
     "metadata": {},
     "output_type": "execute_result"
    }
   ],
   "source": [
    "ratings = ratings[:, user_index]\n",
    "ratings.shape"
   ]
  },
  {
   "cell_type": "code",
   "execution_count": 12,
   "metadata": {},
   "outputs": [
    {
     "name": "stdout",
     "output_type": "stream",
     "text": [
      "min:  82\n",
      "mean: 98.3166\n",
      "max:  177\n"
     ]
    }
   ],
   "source": [
    "user_stat = np.count_nonzero(ratings, axis=0)\n",
    "print(f'min:  {user_stat.min()}\\nmean: {user_stat.mean()}\\nmax:  {user_stat.max()}')"
   ]
  },
  {
   "cell_type": "code",
   "execution_count": 13,
   "metadata": {
    "scrolled": true
   },
   "outputs": [
    {
     "name": "stdout",
     "output_type": "stream",
     "text": [
      "Sparsity: 9.831660000000001%\n"
     ]
    }
   ],
   "source": [
    "print(f'Sparsity: {get_sparsity(ratings)}%')"
   ]
  },
  {
   "cell_type": "markdown",
   "metadata": {},
   "source": [
    "## Get Train and Test Set"
   ]
  },
  {
   "cell_type": "markdown",
   "metadata": {},
   "source": [
    "Removing 10 ratings per item from the training set and placing them in the test set."
   ]
  },
  {
   "cell_type": "code",
   "execution_count": 14,
   "metadata": {},
   "outputs": [
    {
     "data": {
      "text/plain": [
       "(array([  0,   0,   0, ..., 999, 999, 999], dtype=int64),\n",
       " array([  78,  124,  192, ..., 9996, 9997, 9999], dtype=int64))"
      ]
     },
     "execution_count": 14,
     "metadata": {},
     "output_type": "execute_result"
    }
   ],
   "source": [
    "ratings.nonzero()"
   ]
  },
  {
   "cell_type": "code",
   "execution_count": 15,
   "metadata": {},
   "outputs": [],
   "source": [
    "def train_test_split(ratings):\n",
    "    test = np.zeros(ratings.shape)\n",
    "    train = ratings.copy()\n",
    "    for book in range(ratings.shape[0]):\n",
    "        test_ratings = np.random.choice(ratings[book, :].nonzero()[0], \n",
    "                                        size=10, \n",
    "                                        replace=False)\n",
    "        train[book, test_ratings] = 0\n",
    "        test[book, test_ratings] = ratings[book, test_ratings]\n",
    "        \n",
    "    # Test and training are truly disjoint\n",
    "    assert(np.all((train * test) == 0)) \n",
    "    return train, test\n",
    "\n",
    "train, test = train_test_split(ratings)"
   ]
  },
  {
   "cell_type": "code",
   "execution_count": 16,
   "metadata": {},
   "outputs": [
    {
     "data": {
      "text/plain": [
       "(1000, 10000)"
      ]
     },
     "execution_count": 16,
     "metadata": {},
     "output_type": "execute_result"
    }
   ],
   "source": [
    "train.shape"
   ]
  },
  {
   "cell_type": "markdown",
   "metadata": {},
   "source": [
    "## Center Matrix"
   ]
  },
  {
   "cell_type": "code",
   "execution_count": 17,
   "metadata": {},
   "outputs": [
    {
     "data": {
      "text/plain": [
       "array([[ 0.        ,  0.        ,  0.        , ...,  0.        ,\n",
       "         0.        ,  0.        ],\n",
       "       [ 0.        ,  0.        ,  0.        , ...,  0.        ,\n",
       "         0.        ,  0.        ],\n",
       "       [ 0.        ,  0.        ,  0.        , ...,  0.        ,\n",
       "         0.        ,  0.        ],\n",
       "       ...,\n",
       "       [-1.38411371,  0.61588629, -0.38411371, ...,  0.        ,\n",
       "        -0.38411371,  0.61588629],\n",
       "       [-0.00765957, -0.00765957, -1.00765957, ...,  0.99234043,\n",
       "         0.        ,  0.99234043],\n",
       "       [ 0.7206637 ,  0.7206637 , -1.2793363 , ..., -0.2793363 ,\n",
       "         0.        , -0.2793363 ]])"
      ]
     },
     "execution_count": 17,
     "metadata": {},
     "output_type": "execute_result"
    }
   ],
   "source": [
    "train_centered = train.copy()\n",
    "\n",
    "def center_row(row):\n",
    "    index = row.nonzero()\n",
    "    avg = row[index].mean()\n",
    "    row[index] = row[index] - avg\n",
    "    \n",
    "np.apply_along_axis(center_row, 1, train_centered)\n",
    "\n",
    "train_centered"
   ]
  },
  {
   "cell_type": "markdown",
   "metadata": {},
   "source": [
    "## Calculate Similarity Matrix"
   ]
  },
  {
   "cell_type": "code",
   "execution_count": 18,
   "metadata": {
    "scrolled": true
   },
   "outputs": [
    {
     "name": "stdout",
     "output_type": "stream",
     "text": [
      "[[ 1.00000000e+00  1.65940674e-05 -6.09128257e-03  2.88873422e-04]\n",
      " [ 1.65940674e-05  1.00000000e+00  4.83012144e-02  0.00000000e+00]\n",
      " [-6.09128257e-03  4.83012144e-02  1.00000000e+00  0.00000000e+00]\n",
      " [ 2.88873422e-04  0.00000000e+00  0.00000000e+00  1.00000000e+00]]\n"
     ]
    }
   ],
   "source": [
    "def similarity(ratings, kind='item'):\n",
    "    if kind == 'item':\n",
    "        sim = ratings.dot(ratings.T)\n",
    "    norms = np.array([np.sqrt(np.diagonal(sim))])\n",
    "    return (sim / norms / norms.T)\n",
    "\n",
    "item_similarity = similarity(train_centered, kind='item')\n",
    "print(item_similarity[:4, :4])"
   ]
  },
  {
   "cell_type": "markdown",
   "metadata": {},
   "source": [
    "## Calculate MSE Error"
   ]
  },
  {
   "cell_type": "code",
   "execution_count": 19,
   "metadata": {},
   "outputs": [],
   "source": [
    "from sklearn.metrics import mean_squared_error\n",
    "\n",
    "def get_mse(pred, actual):\n",
    "    # Ignore nonzero terms\n",
    "    pred = pred[actual.nonzero()].flatten()\n",
    "    actual = actual[actual.nonzero()].flatten()\n",
    "    return mean_squared_error(pred, actual)"
   ]
  },
  {
   "cell_type": "markdown",
   "metadata": {},
   "source": [
    "## Predict Result (Slow because of for loop)"
   ]
  },
  {
   "cell_type": "code",
   "execution_count": 28,
   "metadata": {},
   "outputs": [
    {
     "data": {
      "text/plain": [
       "array([ 74,  79,  98, 123, 156, 171, 263, 375, 409, 422, 437, 491, 507,\n",
       "       516, 531, 536, 551, 569, 573, 594, 673, 676, 681, 704, 706, 728,\n",
       "       733, 734, 754, 762, 766, 781, 797, 798, 803, 808, 828, 848, 849,\n",
       "       850, 852, 854, 855, 856, 866, 874, 876, 889, 893, 910, 914, 921,\n",
       "       932, 933, 939, 943, 953, 954, 955, 960, 962, 965, 966, 967, 969,\n",
       "       970, 975, 976, 978, 980, 983, 984, 988, 989, 991, 992, 994, 995,\n",
       "       996, 997, 998, 999], dtype=int64)"
      ]
     },
     "execution_count": 28,
     "metadata": {},
     "output_type": "execute_result"
    }
   ],
   "source": [
    "np.where(train[:, 0] != 0)[0]"
   ]
  },
  {
   "cell_type": "code",
   "execution_count": 55,
   "metadata": {},
   "outputs": [],
   "source": [
    "def predict(item_similarity, train, K=20):\n",
    "    pred = np.zeros(train.shape)\n",
    "    for i in range(train.shape[0]):\n",
    "        for j in range(train.shape[1]):\n",
    "            # Already rated by user\n",
    "            if (train[i][j] != 0):\n",
    "                pred[i][j] = train[i][j]\n",
    "                continue\n",
    "            # Note rated by user\n",
    "            user_nonzero = np.where(train[:, j] != 0)[0]\n",
    "            similarity = item_similarity[i][user_nonzero]\n",
    "            topK = np.argpartition(similarity, -K)[-K:]\n",
    "            pred[i][j] = np.dot(similarity[topK], train[user_nonzero[topK], j]) / similarity[topK].sum()\n",
    "    return pred"
   ]
  },
  {
   "cell_type": "code",
   "execution_count": 56,
   "metadata": {},
   "outputs": [],
   "source": [
    "result = predict(item_similarity, train)"
   ]
  },
  {
   "cell_type": "code",
   "execution_count": 57,
   "metadata": {},
   "outputs": [
    {
     "data": {
      "text/plain": [
       "array([3.65770144, 5.        , 3.54236848, ..., 3.46014591, 3.89518618,\n",
       "       4.65031711])"
      ]
     },
     "execution_count": 57,
     "metadata": {},
     "output_type": "execute_result"
    }
   ],
   "source": [
    "result[0]"
   ]
  },
  {
   "cell_type": "markdown",
   "metadata": {},
   "source": [
    "## Calculate MSE"
   ]
  },
  {
   "cell_type": "code",
   "execution_count": 59,
   "metadata": {},
   "outputs": [
    {
     "name": "stdout",
     "output_type": "stream",
     "text": [
      "Top-k Item-based CF MSE: 0.6989419335900491\n"
     ]
    }
   ],
   "source": [
    "print('Top-k Item-based CF MSE: ' + str(get_mse(result, test)))"
   ]
  }
 ],
 "metadata": {
  "kernelspec": {
   "display_name": "Python 3",
   "language": "python",
   "name": "python3"
  },
  "language_info": {
   "codemirror_mode": {
    "name": "ipython",
    "version": 3
   },
   "file_extension": ".py",
   "mimetype": "text/x-python",
   "name": "python",
   "nbconvert_exporter": "python",
   "pygments_lexer": "ipython3",
   "version": "3.8.5"
  }
 },
 "nbformat": 4,
 "nbformat_minor": 4
}
