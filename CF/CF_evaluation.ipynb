{
 "cells": [
  {
   "cell_type": "markdown",
   "metadata": {},
   "source": [
    "# Load Books and Model Data"
   ]
  },
  {
   "cell_type": "code",
   "execution_count": 1,
   "metadata": {},
   "outputs": [],
   "source": [
    "import pandas as pd"
   ]
  },
  {
   "cell_type": "code",
   "execution_count": 2,
   "metadata": {},
   "outputs": [],
   "source": [
    "books = pd.read_csv('../books.csv')"
   ]
  },
  {
   "cell_type": "code",
   "execution_count": 3,
   "metadata": {},
   "outputs": [
    {
     "data": {
      "text/html": [
       "<div>\n",
       "<style scoped>\n",
       "    .dataframe tbody tr th:only-of-type {\n",
       "        vertical-align: middle;\n",
       "    }\n",
       "\n",
       "    .dataframe tbody tr th {\n",
       "        vertical-align: top;\n",
       "    }\n",
       "\n",
       "    .dataframe thead th {\n",
       "        text-align: right;\n",
       "    }\n",
       "</style>\n",
       "<table border=\"1\" class=\"dataframe\">\n",
       "  <thead>\n",
       "    <tr style=\"text-align: right;\">\n",
       "      <th></th>\n",
       "      <th>book_id</th>\n",
       "      <th>goodreads_book_id</th>\n",
       "      <th>best_book_id</th>\n",
       "      <th>work_id</th>\n",
       "      <th>books_count</th>\n",
       "      <th>isbn</th>\n",
       "      <th>isbn13</th>\n",
       "      <th>authors</th>\n",
       "      <th>original_publication_year</th>\n",
       "      <th>original_title</th>\n",
       "      <th>...</th>\n",
       "      <th>ratings_count</th>\n",
       "      <th>work_ratings_count</th>\n",
       "      <th>work_text_reviews_count</th>\n",
       "      <th>ratings_1</th>\n",
       "      <th>ratings_2</th>\n",
       "      <th>ratings_3</th>\n",
       "      <th>ratings_4</th>\n",
       "      <th>ratings_5</th>\n",
       "      <th>image_url</th>\n",
       "      <th>small_image_url</th>\n",
       "    </tr>\n",
       "  </thead>\n",
       "  <tbody>\n",
       "    <tr>\n",
       "      <th>0</th>\n",
       "      <td>1</td>\n",
       "      <td>2767052</td>\n",
       "      <td>2767052</td>\n",
       "      <td>2792775</td>\n",
       "      <td>272</td>\n",
       "      <td>439023483</td>\n",
       "      <td>9.780439e+12</td>\n",
       "      <td>Suzanne Collins</td>\n",
       "      <td>2008.0</td>\n",
       "      <td>The Hunger Games</td>\n",
       "      <td>...</td>\n",
       "      <td>4780653</td>\n",
       "      <td>4942365</td>\n",
       "      <td>155254</td>\n",
       "      <td>66715</td>\n",
       "      <td>127936</td>\n",
       "      <td>560092</td>\n",
       "      <td>1481305</td>\n",
       "      <td>2706317</td>\n",
       "      <td>https://images.gr-assets.com/books/1447303603m...</td>\n",
       "      <td>https://images.gr-assets.com/books/1447303603s...</td>\n",
       "    </tr>\n",
       "    <tr>\n",
       "      <th>1</th>\n",
       "      <td>2</td>\n",
       "      <td>3</td>\n",
       "      <td>3</td>\n",
       "      <td>4640799</td>\n",
       "      <td>491</td>\n",
       "      <td>439554934</td>\n",
       "      <td>9.780440e+12</td>\n",
       "      <td>J.K. Rowling, Mary GrandPré</td>\n",
       "      <td>1997.0</td>\n",
       "      <td>Harry Potter and the Philosopher's Stone</td>\n",
       "      <td>...</td>\n",
       "      <td>4602479</td>\n",
       "      <td>4800065</td>\n",
       "      <td>75867</td>\n",
       "      <td>75504</td>\n",
       "      <td>101676</td>\n",
       "      <td>455024</td>\n",
       "      <td>1156318</td>\n",
       "      <td>3011543</td>\n",
       "      <td>https://images.gr-assets.com/books/1474154022m...</td>\n",
       "      <td>https://images.gr-assets.com/books/1474154022s...</td>\n",
       "    </tr>\n",
       "    <tr>\n",
       "      <th>2</th>\n",
       "      <td>3</td>\n",
       "      <td>41865</td>\n",
       "      <td>41865</td>\n",
       "      <td>3212258</td>\n",
       "      <td>226</td>\n",
       "      <td>316015849</td>\n",
       "      <td>9.780316e+12</td>\n",
       "      <td>Stephenie Meyer</td>\n",
       "      <td>2005.0</td>\n",
       "      <td>Twilight</td>\n",
       "      <td>...</td>\n",
       "      <td>3866839</td>\n",
       "      <td>3916824</td>\n",
       "      <td>95009</td>\n",
       "      <td>456191</td>\n",
       "      <td>436802</td>\n",
       "      <td>793319</td>\n",
       "      <td>875073</td>\n",
       "      <td>1355439</td>\n",
       "      <td>https://images.gr-assets.com/books/1361039443m...</td>\n",
       "      <td>https://images.gr-assets.com/books/1361039443s...</td>\n",
       "    </tr>\n",
       "    <tr>\n",
       "      <th>3</th>\n",
       "      <td>4</td>\n",
       "      <td>2657</td>\n",
       "      <td>2657</td>\n",
       "      <td>3275794</td>\n",
       "      <td>487</td>\n",
       "      <td>61120081</td>\n",
       "      <td>9.780061e+12</td>\n",
       "      <td>Harper Lee</td>\n",
       "      <td>1960.0</td>\n",
       "      <td>To Kill a Mockingbird</td>\n",
       "      <td>...</td>\n",
       "      <td>3198671</td>\n",
       "      <td>3340896</td>\n",
       "      <td>72586</td>\n",
       "      <td>60427</td>\n",
       "      <td>117415</td>\n",
       "      <td>446835</td>\n",
       "      <td>1001952</td>\n",
       "      <td>1714267</td>\n",
       "      <td>https://images.gr-assets.com/books/1361975680m...</td>\n",
       "      <td>https://images.gr-assets.com/books/1361975680s...</td>\n",
       "    </tr>\n",
       "    <tr>\n",
       "      <th>4</th>\n",
       "      <td>5</td>\n",
       "      <td>4671</td>\n",
       "      <td>4671</td>\n",
       "      <td>245494</td>\n",
       "      <td>1356</td>\n",
       "      <td>743273567</td>\n",
       "      <td>9.780743e+12</td>\n",
       "      <td>F. Scott Fitzgerald</td>\n",
       "      <td>1925.0</td>\n",
       "      <td>The Great Gatsby</td>\n",
       "      <td>...</td>\n",
       "      <td>2683664</td>\n",
       "      <td>2773745</td>\n",
       "      <td>51992</td>\n",
       "      <td>86236</td>\n",
       "      <td>197621</td>\n",
       "      <td>606158</td>\n",
       "      <td>936012</td>\n",
       "      <td>947718</td>\n",
       "      <td>https://images.gr-assets.com/books/1490528560m...</td>\n",
       "      <td>https://images.gr-assets.com/books/1490528560s...</td>\n",
       "    </tr>\n",
       "  </tbody>\n",
       "</table>\n",
       "<p>5 rows × 23 columns</p>\n",
       "</div>"
      ],
      "text/plain": [
       "   book_id  goodreads_book_id  best_book_id  work_id  books_count       isbn  \\\n",
       "0        1            2767052       2767052  2792775          272  439023483   \n",
       "1        2                  3             3  4640799          491  439554934   \n",
       "2        3              41865         41865  3212258          226  316015849   \n",
       "3        4               2657          2657  3275794          487   61120081   \n",
       "4        5               4671          4671   245494         1356  743273567   \n",
       "\n",
       "         isbn13                      authors  original_publication_year  \\\n",
       "0  9.780439e+12              Suzanne Collins                     2008.0   \n",
       "1  9.780440e+12  J.K. Rowling, Mary GrandPré                     1997.0   \n",
       "2  9.780316e+12              Stephenie Meyer                     2005.0   \n",
       "3  9.780061e+12                   Harper Lee                     1960.0   \n",
       "4  9.780743e+12          F. Scott Fitzgerald                     1925.0   \n",
       "\n",
       "                             original_title  ... ratings_count  \\\n",
       "0                          The Hunger Games  ...       4780653   \n",
       "1  Harry Potter and the Philosopher's Stone  ...       4602479   \n",
       "2                                  Twilight  ...       3866839   \n",
       "3                     To Kill a Mockingbird  ...       3198671   \n",
       "4                          The Great Gatsby  ...       2683664   \n",
       "\n",
       "  work_ratings_count  work_text_reviews_count  ratings_1  ratings_2  \\\n",
       "0            4942365                   155254      66715     127936   \n",
       "1            4800065                    75867      75504     101676   \n",
       "2            3916824                    95009     456191     436802   \n",
       "3            3340896                    72586      60427     117415   \n",
       "4            2773745                    51992      86236     197621   \n",
       "\n",
       "   ratings_3  ratings_4  ratings_5  \\\n",
       "0     560092    1481305    2706317   \n",
       "1     455024    1156318    3011543   \n",
       "2     793319     875073    1355439   \n",
       "3     446835    1001952    1714267   \n",
       "4     606158     936012     947718   \n",
       "\n",
       "                                           image_url  \\\n",
       "0  https://images.gr-assets.com/books/1447303603m...   \n",
       "1  https://images.gr-assets.com/books/1474154022m...   \n",
       "2  https://images.gr-assets.com/books/1361039443m...   \n",
       "3  https://images.gr-assets.com/books/1361975680m...   \n",
       "4  https://images.gr-assets.com/books/1490528560m...   \n",
       "\n",
       "                                     small_image_url  \n",
       "0  https://images.gr-assets.com/books/1447303603s...  \n",
       "1  https://images.gr-assets.com/books/1474154022s...  \n",
       "2  https://images.gr-assets.com/books/1361039443s...  \n",
       "3  https://images.gr-assets.com/books/1361975680s...  \n",
       "4  https://images.gr-assets.com/books/1490528560s...  \n",
       "\n",
       "[5 rows x 23 columns]"
      ]
     },
     "execution_count": 3,
     "metadata": {},
     "output_type": "execute_result"
    }
   ],
   "source": [
    "books.head()"
   ]
  },
  {
   "cell_type": "code",
   "execution_count": 4,
   "metadata": {},
   "outputs": [],
   "source": [
    "import numpy as np\n",
    "\n",
    "data = np.load('CF_data.npz')\n",
    "book_index = data['book_index']\n",
    "user_index = data['user_index'] \n",
    "item_similarity = data['item_similarity']"
   ]
  },
  {
   "cell_type": "markdown",
   "metadata": {},
   "source": [
    "# Build Dictionary for Book"
   ]
  },
  {
   "cell_type": "code",
   "execution_count": 5,
   "metadata": {},
   "outputs": [],
   "source": [
    "books_valid = books.iloc[book_index]"
   ]
  },
  {
   "cell_type": "code",
   "execution_count": 6,
   "metadata": {},
   "outputs": [],
   "source": [
    "id_to_title = {}\n",
    "for index, row in books_valid.iterrows():\n",
    "    id_to_title[row['book_id']] = row['original_title']"
   ]
  },
  {
   "cell_type": "code",
   "execution_count": 7,
   "metadata": {},
   "outputs": [],
   "source": [
    "title_to_id = {v: k for k, v in id_to_title.items()}"
   ]
  },
  {
   "cell_type": "markdown",
   "metadata": {},
   "source": [
    "# Build Dictionary for ID to Numpy ID"
   ]
  },
  {
   "cell_type": "code",
   "execution_count": 8,
   "metadata": {},
   "outputs": [],
   "source": [
    "id_to_numpy = {}\n",
    "count = 0\n",
    "for index, row in books_valid.iterrows():\n",
    "    id_to_numpy[row['book_id']] = count\n",
    "    count += 1"
   ]
  },
  {
   "cell_type": "code",
   "execution_count": 9,
   "metadata": {},
   "outputs": [],
   "source": [
    "numpy_to_id = {v: k for k, v in id_to_numpy.items()}"
   ]
  },
  {
   "cell_type": "markdown",
   "metadata": {},
   "source": [
    "# Evaluate Similarity"
   ]
  },
  {
   "cell_type": "code",
   "execution_count": 10,
   "metadata": {},
   "outputs": [],
   "source": [
    "def title_to_numpy(title):\n",
    "    return id_to_numpy[title_to_id[title]]\n",
    "\n",
    "def numpy_to_title(numpy):\n",
    "    return id_to_title[numpy_to_id[numpy]]"
   ]
  },
  {
   "cell_type": "code",
   "execution_count": 11,
   "metadata": {},
   "outputs": [],
   "source": [
    "def top_k(title, k=10):\n",
    "    indice = np.argpartition(item_similarity[title_to_numpy(title)], -k)[-k:]\n",
    "    result = [numpy_to_title(b) for b in indice]\n",
    "    return result"
   ]
  },
  {
   "cell_type": "markdown",
   "metadata": {},
   "source": [
    "In the following sections I test some books that I have read before."
   ]
  },
  {
   "cell_type": "markdown",
   "metadata": {},
   "source": [
    "## Popular Series"
   ]
  },
  {
   "cell_type": "code",
   "execution_count": 12,
   "metadata": {},
   "outputs": [
    {
     "data": {
      "text/plain": [
       "['Complete Harry Potter Boxed Set',\n",
       " 'The Hunger Games',\n",
       " 'Harry Potter and the Goblet of Fire',\n",
       " 'Harry Potter and the Prisoner of Azkaban',\n",
       " \"Harry Potter and the Philosopher's Stone\",\n",
       " 'Harry Potter and the Half-Blood Prince',\n",
       " 'Harry Potter and the Order of the Phoenix',\n",
       " 'The Da Vinci Code',\n",
       " 'Harry Potter and the Chamber of Secrets',\n",
       " 'Harry Potter and the Deathly Hallows']"
      ]
     },
     "execution_count": 12,
     "metadata": {},
     "output_type": "execute_result"
    }
   ],
   "source": [
    "top_k(\"Harry Potter and the Philosopher's Stone\")"
   ]
  },
  {
   "cell_type": "markdown",
   "metadata": {},
   "source": [
    "It is great that the all sequels of `Harry Potter and the Philosopher's Stone` are shown here."
   ]
  },
  {
   "cell_type": "code",
   "execution_count": 13,
   "metadata": {},
   "outputs": [
    {
     "data": {
      "text/plain": [
       "['Harry Potter and the Half-Blood Prince',\n",
       " 'Harry Potter and the Prisoner of Azkaban',\n",
       " 'The Help',\n",
       " 'Angels & Demons ',\n",
       " 'Divergent',\n",
       " \"Harry Potter and the Philosopher's Stone\",\n",
       " 'Mockingjay',\n",
       " 'Twilight',\n",
       " 'Catching Fire',\n",
       " 'The Hunger Games']"
      ]
     },
     "execution_count": 13,
     "metadata": {},
     "output_type": "execute_result"
    }
   ],
   "source": [
    "top_k(\"The Hunger Games\")"
   ]
  },
  {
   "cell_type": "markdown",
   "metadata": {},
   "source": [
    "The sequels of `The Hunger Games` are all shown. `Divergent` is very similar."
   ]
  },
  {
   "cell_type": "code",
   "execution_count": 14,
   "metadata": {},
   "outputs": [
    {
     "data": {
      "text/plain": [
       "[\"One Flew Over the Cuckoo's Nest\",\n",
       " 'The Hobbit and The Lord of the Rings',\n",
       " 'The Lion, the Witch and the Wardrobe',\n",
       " 'Green Eggs and Ham',\n",
       " 'The Two Towers',\n",
       " 'The Return of the King',\n",
       " 'The Lord of the Rings',\n",
       " 'The Hobbit',\n",
       " 'The Hobbit or There and Back Again',\n",
       " ' The Fellowship of the Ring']"
      ]
     },
     "execution_count": 14,
     "metadata": {},
     "output_type": "execute_result"
    }
   ],
   "source": [
    "top_k(\"The Hobbit\")"
   ]
  },
  {
   "cell_type": "markdown",
   "metadata": {},
   "source": [
    "`The Lord of the Rings` is shown."
   ]
  },
  {
   "cell_type": "markdown",
   "metadata": {},
   "source": [
    "## Classics"
   ]
  },
  {
   "cell_type": "code",
   "execution_count": 15,
   "metadata": {},
   "outputs": [
    {
     "data": {
      "text/plain": [
       "['Of Mice and Men ',\n",
       " 'Emma',\n",
       " 'Little Women',\n",
       " 'Great Expectations',\n",
       " 'Pride and Prejudice',\n",
       " 'Sense and Sensibility',\n",
       " 'An Excellent conceited Tragedie of Romeo and Juliet',\n",
       " 'Jane Eyre',\n",
       " 'The Scarlet Letter',\n",
       " 'Wuthering Heights']"
      ]
     },
     "execution_count": 15,
     "metadata": {},
     "output_type": "execute_result"
    }
   ],
   "source": [
    "top_k(\"Wuthering Heights\")"
   ]
  },
  {
   "cell_type": "markdown",
   "metadata": {},
   "source": [
    "`Wuthering Heights` is very different from `Pride and Prejudice` and `Jane Eyre` in my opinion.\n",
    "\n",
    "I really wish `One Hundred Years of Solitude` is included in this dataset. It reminds me of `Wuthering Heights`, which I read about ten years ago."
   ]
  },
  {
   "cell_type": "code",
   "execution_count": 16,
   "metadata": {
    "scrolled": true
   },
   "outputs": [
    {
     "data": {
      "text/plain": [
       "['The Adventures of Huckleberry Finn',\n",
       " 'The Sun Also Rises',\n",
       " 'Nineteen Eighty-Four',\n",
       " 'Animal Farm: A Fairy Story',\n",
       " 'The Catcher in the Rye',\n",
       " 'An Excellent conceited Tragedie of Romeo and Juliet',\n",
       " 'The Great Gatsby',\n",
       " 'To Kill a Mockingbird',\n",
       " 'Of Mice and Men ',\n",
       " 'Lord of the Flies ']"
      ]
     },
     "execution_count": 16,
     "metadata": {},
     "output_type": "execute_result"
    }
   ],
   "source": [
    "top_k(\"The Great Gatsby\")"
   ]
  },
  {
   "cell_type": "markdown",
   "metadata": {},
   "source": [
    "## Dystopia Novel"
   ]
  },
  {
   "cell_type": "code",
   "execution_count": 17,
   "metadata": {},
   "outputs": [
    {
     "data": {
      "text/plain": [
       "['The Great Gatsby',\n",
       " 'Of Mice and Men ',\n",
       " 'Catch-22',\n",
       " 'The Catcher in the Rye',\n",
       " \"Slaughterhouse-Five, or The Children's Crusade: A Duty-Dance with Death \",\n",
       " 'Lord of the Flies ',\n",
       " 'Fahrenheit 451',\n",
       " 'Animal Farm: A Fairy Story',\n",
       " 'Nineteen Eighty-Four',\n",
       " 'Brave New World']"
      ]
     },
     "execution_count": 17,
     "metadata": {},
     "output_type": "execute_result"
    }
   ],
   "source": [
    "top_k(\"Nineteen Eighty-Four\")"
   ]
  },
  {
   "cell_type": "markdown",
   "metadata": {},
   "source": [
    "## Children's Novel"
   ]
  },
  {
   "cell_type": "code",
   "execution_count": 18,
   "metadata": {},
   "outputs": [
    {
     "data": {
      "text/plain": [
       "['A Wrinkle in Time',\n",
       " 'Het Achterhuis: Dagboekbrieven 14 juni 1942 - 1 augustus 1944',\n",
       " 'The Adventures of Tom Sawyer',\n",
       " 'The Lion, the Witch and the Wardrobe',\n",
       " 'A Christmas Carol',\n",
       " 'A Little Princess',\n",
       " 'The Secret Garden',\n",
       " 'Little Women',\n",
       " \"Charlotte's Web\",\n",
       " 'Anne of Green Gables']"
      ]
     },
     "execution_count": 18,
     "metadata": {},
     "output_type": "execute_result"
    }
   ],
   "source": [
    "top_k(\"The Secret Garden\")"
   ]
  },
  {
   "cell_type": "markdown",
   "metadata": {},
   "source": [
    "Most of them are similar to `The Secret Garden`. It is strange for `Pride and Prejudice` to be here.\n",
    "\n",
    "`Het Achterhuis: Dagboekbrieven 14 juni 1942 - 1 augustus 1944` is a sad one. I don't think it is appropriate for children."
   ]
  },
  {
   "cell_type": "markdown",
   "metadata": {},
   "source": [
    "## Animal Novel"
   ]
  },
  {
   "cell_type": "code",
   "execution_count": 19,
   "metadata": {
    "scrolled": true
   },
   "outputs": [
    {
     "data": {
      "text/plain": [
       "['The Tale of Peter Rabbit',\n",
       " 'White Fang',\n",
       " 'The Secret Garden',\n",
       " 'Der Schweizerische Robinson',\n",
       " 'Notre-Dame de Paris',\n",
       " 'The Call of the Wild',\n",
       " 'Black Beauty',\n",
       " 'Heidi',\n",
       " \"Charlotte's Web\",\n",
       " 'Aesopica']"
      ]
     },
     "execution_count": 19,
     "metadata": {},
     "output_type": "execute_result"
    }
   ],
   "source": [
    "top_k(\"Black Beauty\")"
   ]
  },
  {
   "cell_type": "markdown",
   "metadata": {},
   "source": [
    "`War Horse` reminds me of this novel. But the dataset is too small to include it."
   ]
  },
  {
   "cell_type": "markdown",
   "metadata": {},
   "source": [
    "## Transdisciplinary Non-fiction"
   ]
  },
  {
   "cell_type": "code",
   "execution_count": 20,
   "metadata": {},
   "outputs": [
    {
     "data": {
      "text/plain": [
       "['Stiff: The Curious Lives of Human Cadavers',\n",
       " 'The Tipping Point: How Little Things Can Make a Big Difference',\n",
       " 'Outliers: The Story of Success',\n",
       " 'Blink: The Power of Thinking Without Thinking',\n",
       " 'A Short History of Nearly Everything',\n",
       " 'Il Principe',\n",
       " \"A People's History of the United States: 1492 to Present \",\n",
       " 'Freakonomics: A Rogue Economist Explores the Hidden Side of Everything',\n",
       " 'Guns, Germs, and Steel: The Fates of Human Societies',\n",
       " 'An Excellent conceited Tragedie of Romeo and Juliet']"
      ]
     },
     "execution_count": 20,
     "metadata": {},
     "output_type": "execute_result"
    }
   ],
   "source": [
    "top_k(\"Guns, Germs, and Steel: The Fates of Human Societies\")"
   ]
  },
  {
   "cell_type": "markdown",
   "metadata": {},
   "source": [
    "I expect to see `Sapiens: A Brief History of Humankind` but it is not included in the dataset."
   ]
  },
  {
   "cell_type": "markdown",
   "metadata": {},
   "source": [
    "## Science Fiction"
   ]
  },
  {
   "cell_type": "code",
   "execution_count": 21,
   "metadata": {},
   "outputs": [
    {
     "data": {
      "text/plain": [
       "['The Tipping Point: How Little Things Can Make a Big Difference',\n",
       " 'Brave New World',\n",
       " 'Stranger in a Strange Land',\n",
       " 'Neuromancer',\n",
       " 'Into Thin Air: A Personal Account of the Mt. Everest Disaster',\n",
       " \"The Hitchhiker's Guide to the Galaxy\",\n",
       " 'Dune',\n",
       " 'Snow Crash',\n",
       " \"Ender's Game\",\n",
       " 'Foundation']"
      ]
     },
     "execution_count": 21,
     "metadata": {},
     "output_type": "execute_result"
    }
   ],
   "source": [
    "top_k(\"Ender's Game\")"
   ]
  },
  {
   "cell_type": "markdown",
   "metadata": {},
   "source": [
    "# Recommend Books based on user's ratings"
   ]
  },
  {
   "cell_type": "code",
   "execution_count": 22,
   "metadata": {},
   "outputs": [],
   "source": [
    "my_rating = {\n",
    "    'The Hunger Games': 4.5,\n",
    "    'Twilight': 3.5,\n",
    "    'The Da Vinci Code': 4.5,\n",
    "    'The Great Gatsby': 5,\n",
    "    \"Ender's Game\": 4,\n",
    "    'Nineteen Eighty-Four': 4.5,\n",
    "    'The Secret Garden': 4.5,\n",
    "    'Le Comte de Monte-Cristo': 5,\n",
    "    'Les Misérables': 5,\n",
    "    'Wuthering Heights': 5,\n",
    "    'Pride and Prejudice': 4.5,\n",
    "    'Jane Eyre': 4,\n",
    "    'Black Beauty': 5,\n",
    "    'Fall of Giants': 3.5,\n",
    "    'Guns, Germs, and Steel: The Fates of Human Societies': 5, \n",
    "    'Cloud Atlas': 5,\n",
    "    'The Hobbit': 4,\n",
    "    \"Harry Potter and the Philosopher's Stone\": 5\n",
    "}"
   ]
  },
  {
   "cell_type": "code",
   "execution_count": 23,
   "metadata": {},
   "outputs": [],
   "source": [
    "def get_recommondation(user_rating, similarity, K=15):\n",
    "    user_numpy = np.array([title_to_numpy(x) for x in user_rating.keys()])\n",
    "    user_rating = np.array([y for x, y in user_rating.items()])\n",
    "    pred_rating = np.zeros(similarity.shape[0])\n",
    "        \n",
    "    for i in range(similarity.shape[0]):\n",
    "        top_k_similar = np.argpartition(similarity[i][user_numpy], -K)[-K:]\n",
    "        pred_rating[i] = np.dot(user_rating[top_k_similar], similarity[i][user_numpy[top_k_similar]]) / similarity[i][user_numpy[top_k_similar]].sum()\n",
    "    \n",
    "    top_k_rating = np.argpartition(pred_rating, -30)[-30:]\n",
    "    dic = {numpy_to_title(x): pred_rating[x] for x in top_k_rating}\n",
    "    \n",
    "    return dic"
   ]
  },
  {
   "cell_type": "code",
   "execution_count": 24,
   "metadata": {
    "scrolled": false
   },
   "outputs": [
    {
     "data": {
      "text/plain": [
       "{'Candide': 4.738780317060948,\n",
       " 'The One Plus One': 4.796180717673848,\n",
       " 'The Story of Edgar Sawtelle': 4.809392671058634,\n",
       " 'Le Comte de Monte-Cristo': 4.78645304155522,\n",
       " \"L'élégance du hérisson\": 4.763744226180255,\n",
       " '2001: A Space Odyssey': 4.742712746251362,\n",
       " 'Les Misérables': 4.775234330848559,\n",
       " 'No Country for Old Men': 4.787372666885708,\n",
       " 'The Corrections': 4.794923051585936,\n",
       " 'ねじまき鳥クロニクル [Nejimakidori kuronikuru]': 4.746867893539367,\n",
       " 'Freedom': 4.739999123069169,\n",
       " 'The Sense of an Ending': 4.761703072965084,\n",
       " 'The Amazing Adventures of Kavalier & Clay': 4.771760354406468,\n",
       " 'The Autobiography of Malcolm X': 4.747426661710104,\n",
       " 'Hearts in Atlantis': 4.749151768170858,\n",
       " 'The Glass Menagerie': 4.795128720764772,\n",
       " 'The Interestings': 4.75321959715013,\n",
       " 'Beowulf': 4.752684346851267,\n",
       " 'The Hours': 4.758093917764653,\n",
       " 'Black Beauty': 4.824912466068879,\n",
       " 'Let the Great World Spin': 5.125484153643984,\n",
       " 'Leaving Time': 4.888565806646468,\n",
       " 'Easy': 8.219043621363733,\n",
       " \"Tell the Wolves I'm Home\": 4.951962662342103,\n",
       " 'Cloud Atlas': 4.934193732406637,\n",
       " 'The Marriage Plot': 5.013785019969411,\n",
       " 'The Great Gatsby': 4.825248803194506,\n",
       " 'White Teeth': 4.829796687816833,\n",
       " 'The Man in the High Castle': 4.826819805580039,\n",
       " 'Guns, Germs, and Steel: The Fates of Human Societies': 4.87543997683944}"
      ]
     },
     "execution_count": 24,
     "metadata": {},
     "output_type": "execute_result"
    }
   ],
   "source": [
    "recommend = get_recommondation(my_rating, item_similarity)\n",
    "recommend"
   ]
  },
  {
   "cell_type": "markdown",
   "metadata": {},
   "source": [
    "I have no idea what those books are (?) Some of them seem interesting."
   ]
  }
 ],
 "metadata": {
  "kernelspec": {
   "display_name": "Python 3",
   "language": "python",
   "name": "python3"
  },
  "language_info": {
   "codemirror_mode": {
    "name": "ipython",
    "version": 3
   },
   "file_extension": ".py",
   "mimetype": "text/x-python",
   "name": "python",
   "nbconvert_exporter": "python",
   "pygments_lexer": "ipython3",
   "version": "3.8.5"
  }
 },
 "nbformat": 4,
 "nbformat_minor": 4
}
