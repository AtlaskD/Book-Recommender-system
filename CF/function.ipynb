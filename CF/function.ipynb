{
 "cells": [
  {
   "cell_type": "markdown",
   "metadata": {},
   "source": [
    "Collaborative Filtering\n",
    "* Item-Item \n",
    "* Centered Cosine Similarity\n",
    "* Top-k\n",
    "\n",
    "https://www.ethanrosenthal.com/2015/11/02/intro-to-collaborative-filtering/"
   ]
  },
  {
   "cell_type": "markdown",
   "metadata": {},
   "source": [
    "## Get Train and Test Set"
   ]
  },
  {
   "cell_type": "markdown",
   "metadata": {},
   "source": [
    "Randomly choose 20% data as test set"
   ]
  },
  {
   "cell_type": "code",
   "execution_count": 1,
   "metadata": {},
   "outputs": [],
   "source": [
    "import numpy as np"
   ]
  },
  {
   "cell_type": "code",
   "execution_count": 2,
   "metadata": {},
   "outputs": [],
   "source": [
    "def train_test_split(ratings):\n",
    "    test = np.zeros(ratings.shape)\n",
    "    train = ratings.copy()\n",
    "    for book in range(ratings.shape[0]):\n",
    "        nonzero_element = ratings[book, :].nonzero()[0]\n",
    "        test_ratings = np.random.choice(nonzero_element, \n",
    "                                        size=int(len(nonzero_element) * 0.2), \n",
    "                                        replace=False)\n",
    "        train[book, test_ratings] = 0\n",
    "        test[book, test_ratings] = ratings[book, test_ratings]\n",
    "        \n",
    "    return train, test"
   ]
  },
  {
   "cell_type": "markdown",
   "metadata": {},
   "source": [
    "## Center Matrix"
   ]
  },
  {
   "cell_type": "code",
   "execution_count": 3,
   "metadata": {},
   "outputs": [],
   "source": [
    "def center_row(row):\n",
    "    index = row.nonzero()[0]\n",
    "    avg = row[index].mean()\n",
    "    row[index] = row[index] - avg\n",
    "    return row"
   ]
  },
  {
   "cell_type": "markdown",
   "metadata": {},
   "source": [
    "## Calculate Similarity Matrix"
   ]
  },
  {
   "cell_type": "code",
   "execution_count": 4,
   "metadata": {
    "scrolled": true
   },
   "outputs": [],
   "source": [
    "def similarity(ratings, kind='item', center=True):\n",
    "    if center:\n",
    "        ratings_centered = ratings.copy()\n",
    "        ratings_centered = np.apply_along_axis(center_row, 1, ratings_centered)\n",
    "    else:\n",
    "        ratings_centered = ratings\n",
    "        \n",
    "    if kind == 'item':\n",
    "        sim = ratings.dot(ratings.T)\n",
    "        \n",
    "    norms = np.array([np.sqrt(np.diagonal(sim))])\n",
    "    \n",
    "    return (sim / norms / norms.T)"
   ]
  },
  {
   "cell_type": "markdown",
   "metadata": {},
   "source": [
    "## Calculate MSE Error"
   ]
  },
  {
   "cell_type": "code",
   "execution_count": 5,
   "metadata": {},
   "outputs": [],
   "source": [
    "from sklearn.metrics import mean_squared_error\n",
    "\n",
    "def get_mse(pred, actual):\n",
    "    # Ignore nonzero terms\n",
    "    pred = pred[actual.nonzero()].flatten()\n",
    "    actual = actual[actual.nonzero()].flatten()\n",
    "    return mean_squared_error(pred, actual, squared=False)"
   ]
  },
  {
   "cell_type": "markdown",
   "metadata": {},
   "source": [
    "## Calculate Recall, Precision and Coverage"
   ]
  },
  {
   "cell_type": "code",
   "execution_count": 6,
   "metadata": {},
   "outputs": [],
   "source": [
    "def get_recall_precision(prediction, actual):\n",
    "    valid_prediction = prediction.copy()\n",
    "    \n",
    "    recall = 0\n",
    "    precision = 0\n",
    "    rec_zero = 0\n",
    "    rel_zero = 0\n",
    "    \n",
    "    for pred, act in zip(valid_prediction, actual):\n",
    "        pred[np.where(act == 0)] = 0\n",
    "    \n",
    "        recommend = pred[pred >= 4]\n",
    "        relevant = pred[act >= 4]\n",
    "        intersect = np.intersect1d(recommend, relevant)\n",
    "        \n",
    "        if (recommend.size == 0):\n",
    "            rec_zero += 1\n",
    "        else:\n",
    "            recall += intersect.size / recommend.size\n",
    "            \n",
    "        if (relevant.size == 0):\n",
    "            rel_zero += 1\n",
    "        else:\n",
    "            precision += intersect.size / relevant.size\n",
    "        \n",
    "    return recall / (prediction.shape[0] - rel_zero), precision / (prediction.shape[0] - rec_zero)"
   ]
  },
  {
   "cell_type": "markdown",
   "metadata": {},
   "source": [
    "## Predict Result"
   ]
  },
  {
   "cell_type": "code",
   "execution_count": 7,
   "metadata": {},
   "outputs": [],
   "source": [
    "def predict(item_similarity, train, K=40):\n",
    "    pred = np.zeros(train.shape)\n",
    "    for i in range(train.shape[0]):\n",
    "        print(f'progress {i} {i / train.shape[0] * 100}%', end='\\r')\n",
    "        for j in range(train.shape[1]):\n",
    "            # Already rated by user\n",
    "            if (train[i][j] != 0):\n",
    "                pred[i][j] = train[i][j]\n",
    "                continue\n",
    "            # Note rated by user\n",
    "            user_nonzero = np.where(train[:, j] != 0)[0]\n",
    "            similarity = item_similarity[i][user_nonzero]\n",
    "            topK = np.argpartition(similarity, -K)[-K:]\n",
    "            pred[i][j] = np.dot(similarity[topK], train[user_nonzero[topK], j]) / similarity[topK].sum()\n",
    "    return pred"
   ]
  }
 ],
 "metadata": {
  "kernelspec": {
   "display_name": "Python 3",
   "language": "python",
   "name": "python3"
  },
  "language_info": {
   "codemirror_mode": {
    "name": "ipython",
    "version": 3
   },
   "file_extension": ".py",
   "mimetype": "text/x-python",
   "name": "python",
   "nbconvert_exporter": "python",
   "pygments_lexer": "ipython3",
   "version": "3.8.5"
  }
 },
 "nbformat": 4,
 "nbformat_minor": 4
}
